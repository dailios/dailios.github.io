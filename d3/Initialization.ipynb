{
 "cells": [
  {
   "cell_type": "code",
   "execution_count": 1,
   "metadata": {},
   "outputs": [],
   "source": [
    "import pandas as pd\n",
    "\n",
    "# 예시 데이터 프레임\n",
    "df = pd.DataFrame({\n",
    "    'fruit': ['apple', 'banana', 'cherry', 'orange'],\n",
    "    'count': [10, 5, 7, 12]\n",
    "})\n"
   ]
  },
  {
   "cell_type": "code",
   "execution_count": 2,
   "metadata": {},
   "outputs": [],
   "source": [
    "import json\n",
    "\n",
    "# 데이터 프레임을 딕셔너리 형태로 변환\n",
    "data = df.to_dict(orient='records')\n",
    "\n",
    "# 데이터를 JSON 형식으로 변환하여 파일로 저장\n",
    "with open('data.json', 'w') as f:\n",
    "    json.dump(data, f)\n"
   ]
  },
  {
   "cell_type": "code",
   "execution_count": 5,
   "metadata": {},
   "outputs": [
    {
     "ename": "AttributeError",
     "evalue": "'TCPServer' object has no attribute 'headers'",
     "output_type": "error",
     "traceback": [
      "\u001b[1;31m---------------------------------------------------------------------------\u001b[0m",
      "\u001b[1;31mAttributeError\u001b[0m                            Traceback (most recent call last)",
      "Cell \u001b[1;32mIn[5], line 12\u001b[0m\n\u001b[0;32m     10\u001b[0m httpd\u001b[39m.\u001b[39mserver_name \u001b[39m=\u001b[39m \u001b[39m\"\u001b[39m\u001b[39mlocalhost\u001b[39m\u001b[39m\"\u001b[39m\n\u001b[0;32m     11\u001b[0m httpd\u001b[39m.\u001b[39mserver_port \u001b[39m=\u001b[39m PORT\n\u001b[1;32m---> 12\u001b[0m httpd\u001b[39m.\u001b[39;49mheaders[\u001b[39m\"\u001b[39m\u001b[39mAccess-Control-Allow-Origin\u001b[39m\u001b[39m\"\u001b[39m] \u001b[39m=\u001b[39m \u001b[39m\"\u001b[39m\u001b[39m*\u001b[39m\u001b[39m\"\u001b[39m\n\u001b[0;32m     14\u001b[0m \u001b[39mprint\u001b[39m(\u001b[39m\"\u001b[39m\u001b[39mServing on port\u001b[39m\u001b[39m\"\u001b[39m, PORT)\n\u001b[0;32m     15\u001b[0m httpd\u001b[39m.\u001b[39mserve_forever()\n",
      "\u001b[1;31mAttributeError\u001b[0m: 'TCPServer' object has no attribute 'headers'"
     ]
    }
   ],
   "source": [
    "import http.server\n",
    "import socketserver\n",
    "\n",
    "PORT = 8000\n",
    "\n",
    "Handler = http.server.SimpleHTTPRequestHandler\n",
    "Handler.headers = {\"Access-Control-Allow-Origin\": \"*\"}\n",
    "httpd = socketserver.TCPServer((\"\", PORT), Handler)\n",
    "\n",
    "httpd.allow_reuse_address = True\n",
    "httpd.server_name = \"localhost\"\n",
    "httpd.server_port = PORT\n",
    "\n",
    "print(\"Serving on port\", PORT)\n",
    "httpd.serve_forever()\n",
    "\n",
    "# httpd.shutdown()\n"
   ]
  }
 ],
 "metadata": {
  "kernelspec": {
   "display_name": "korartisan",
   "language": "python",
   "name": "python3"
  },
  "language_info": {
   "codemirror_mode": {
    "name": "ipython",
    "version": 3
   },
   "file_extension": ".py",
   "mimetype": "text/x-python",
   "name": "python",
   "nbconvert_exporter": "python",
   "pygments_lexer": "ipython3",
   "version": "3.8.0"
  },
  "orig_nbformat": 4
 },
 "nbformat": 4,
 "nbformat_minor": 2
}
